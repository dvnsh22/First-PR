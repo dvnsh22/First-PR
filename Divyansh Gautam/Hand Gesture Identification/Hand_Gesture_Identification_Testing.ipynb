{
  "nbformat": 4,
  "nbformat_minor": 0,
  "metadata": {
    "colab": {
      "name": "Hand Gesture Identification - Testing.ipynb",
      "provenance": [],
      "collapsed_sections": []
    },
    "kernelspec": {
      "name": "python3",
      "display_name": "Python 3"
    },
    "language_info": {
      "name": "python"
    }
  },
  "cells": [
    {
      "cell_type": "markdown",
      "source": [
        "# Model Evaluation and Testing"
      ],
      "metadata": {
        "id": "JaSiZH24c55p"
      }
    },
    {
      "cell_type": "code",
      "source": [
        "# Mount Google Drive\n",
        "from google.colab import drive\n",
        "drive.mount('/content/drive')"
      ],
      "metadata": {
        "colab": {
          "base_uri": "https://localhost:8080/"
        },
        "id": "aKpzYn4Ain51",
        "outputId": "a5c6561b-2167-46bd-b598-8e7d505ea37a"
      },
      "execution_count": null,
      "outputs": [
        {
          "output_type": "stream",
          "name": "stdout",
          "text": [
            "Drive already mounted at /content/drive; to attempt to forcibly remount, call drive.mount(\"/content/drive\", force_remount=True).\n"
          ]
        }
      ]
    },
    {
      "cell_type": "code",
      "source": [
        "# Unzip dataset\n",
        "!unzip \"/content/drive/MyDrive/Miniproject - Sem 6/HandGestures.zip\" -d \"/content/HandGestures/\" &> /dev/null"
      ],
      "metadata": {
        "id": "HepVBFfEk8bN"
      },
      "execution_count": null,
      "outputs": []
    },
    {
      "cell_type": "code",
      "source": [
        "import os, shutil\n",
        "\n",
        "test_path = '/content/HandGestures/test/test/'\n",
        "\n",
        "# Remove extra directories from testing directory\n",
        "for f in os.scandir(test_path):\n",
        "    if len(f.path) == 34:\n",
        "        print(f'Removing directory: \"{f.name}\"')\n",
        "        shutil.rmtree(f.path)"
      ],
      "metadata": {
        "colab": {
          "base_uri": "https://localhost:8080/"
        },
        "id": "5E5O-_t9lTCV",
        "outputId": "dd300192-2741-4c3e-e0ea-1a464782a67f"
      },
      "execution_count": null,
      "outputs": [
        {
          "output_type": "stream",
          "name": "stdout",
          "text": [
            "Removing directory: \"15\"\n",
            "Removing directory: \"12\"\n",
            "Removing directory: \"11\"\n",
            "Removing directory: \"19\"\n",
            "Removing directory: \"16\"\n",
            "Removing directory: \"14\"\n",
            "Removing directory: \"17\"\n",
            "Removing directory: \"18\"\n",
            "Removing directory: \"10\"\n",
            "Removing directory: \"13\"\n"
          ]
        }
      ]
    },
    {
      "cell_type": "code",
      "source": [
        "from keras.preprocessing.image import ImageDataGenerator\n",
        "\n",
        "\n",
        "test_datagen = ImageDataGenerator(rescale=1./255)\n",
        "\n",
        "test_generator = test_datagen.flow_from_directory(test_path, target_size=(50, 50), batch_size=32, class_mode='categorical')"
      ],
      "metadata": {
        "colab": {
          "base_uri": "https://localhost:8080/"
        },
        "id": "9VbDoyRNjKLx",
        "outputId": "dcb1cf28-a9f6-45e1-a237-8b8630900536"
      },
      "execution_count": null,
      "outputs": [
        {
          "output_type": "stream",
          "name": "stdout",
          "text": [
            "Found 3000 images belonging to 10 classes.\n"
          ]
        }
      ]
    },
    {
      "cell_type": "code",
      "source": [
        "# Load model\n",
        "from keras.models import load_model\n",
        "\n",
        "classifier = load_model('/content/drive/MyDrive/Miniproject - Sem 6/gesture_classifier.h5')"
      ],
      "metadata": {
        "id": "daIXOKKOmYxo"
      },
      "execution_count": null,
      "outputs": []
    },
    {
      "cell_type": "code",
      "source": [
        "# Model evaluation\n",
        "loss, accuracy = classifier.evaluate(test_generator)\n",
        "print(f'Loss: {loss}\\tAccuracy: {round(accuracy * 100, 3)}')"
      ],
      "metadata": {
        "colab": {
          "base_uri": "https://localhost:8080/"
        },
        "id": "u7NNioiFtX7e",
        "outputId": "80440f8f-38de-436d-95e6-9e48ed65d2e5"
      },
      "execution_count": null,
      "outputs": [
        {
          "output_type": "stream",
          "name": "stdout",
          "text": [
            "94/94 [==============================] - 7s 64ms/step - loss: 0.3374 - accuracy: 0.9057\n",
            "Loss: 0.3373825252056122\tAccuracy: 90.567\n"
          ]
        }
      ]
    },
    {
      "cell_type": "code",
      "source": [
        "import cv2\n",
        "import numpy as np\n",
        "from os import listdir\n",
        "from os.path import isfile, join\n",
        "from google.colab.patches import cv2_imshow\n",
        "\n",
        "\n",
        "pred_classes = { f\"[{i}]\": str(i) for i in range(10) }                \n",
        "dir_names = { str(i): str(i) for i in range(10) }\n",
        "\n",
        "y_true, y_pred = [], []\n",
        "\n",
        "# Get random image from random folder\n",
        "def getRandomImage(path):\n",
        "    folders = listdir(path)\n",
        "    rand_dir = np.random.randint(0, len(folders))\n",
        "    path_class = folders[rand_dir]\n",
        "    y_true.append(dir_names[str(path_class)])\n",
        "    print(\"\\n\\n>> Class: \" + dir_names[str(path_class)])\n",
        "    file_path = path + '/' + path_class\n",
        "    file_names = [f for f in listdir(file_path) if isfile(join(file_path, f))]\n",
        "    rand_file_idx = np.random.randint(0, len(file_names))\n",
        "    image_name = file_names[rand_file_idx]\n",
        "    return cv2.imread(file_path + \"/\" +image_name)    \n",
        "\n",
        "# Put text and draw border on image\n",
        "def textAndBorder(pred, img):\n",
        "    img = cv2.resize(img, (150, 150), interpolation=cv2.INTER_LINEAR)\n",
        "    disease = pred_classes[str(pred)]\n",
        "    expanded_image = cv2.copyMakeBorder(img, 60, 0, 0, 80, cv2.BORDER_CONSTANT, value=(0,0,0))\n",
        "    cv2.putText(expanded_image, disease, (20,40) , cv2.FONT_HERSHEY_SIMPLEX, 1, (0,0,255), 2)\n",
        "    expanded_image = cv2.resize(expanded_image, None, fx = 0.6, fy = 0.6)\n",
        "    cv2_imshow(expanded_image)\n",
        "\n",
        "# Randomly select 10 images from testing directory and make prediction\n",
        "for i in range(10):\n",
        "    input_im = getRandomImage(test_path)\n",
        "    input_original = input_im.copy()\n",
        "    input_original = cv2.resize(input_original, None, fx=0.5, fy=0.5, interpolation=cv2.INTER_LINEAR)\n",
        "    \n",
        "    input_img = cv2.resize(input_im, (50, 50), interpolation=cv2.INTER_LINEAR)\n",
        "    input_img = input_img / 255.\n",
        "    input_img = input_img.reshape(1,50,50,3) \n",
        "    \n",
        "    pred = classifier.predict(input_img, 1, verbose = 0)\n",
        "    res = np.argmax(pred, axis=1)\n",
        "    y_pred.append(pred_classes[str(res)])\n",
        "\n",
        "    print(\">> Prediction: \")\n",
        "    textAndBorder(res, input_original)"
      ],
      "metadata": {
        "colab": {
          "base_uri": "https://localhost:8080/",
          "height": 1000
        },
        "id": "F_5bdwXSu01z",
        "outputId": "c57948ed-da7d-4f47-ff8d-29628d664748"
      },
      "execution_count": null,
      "outputs": [
        {
          "output_type": "stream",
          "name": "stdout",
          "text": [
            "\n",
            "\n",
            ">> Class: 2\n",
            ">> Prediction: \n"
          ]
        },
        {
          "output_type": "display_data",
          "data": {
            "text/plain": [
              "<PIL.Image.Image image mode=RGB size=138x126 at 0x7F1DBDB56510>"
            ],
            "image/png": "[encoded data removed]"
          },
          "metadata": {}
        },
        {
          "output_type": "stream",
          "name": "stdout",
          "text": [
            "\n",
            "\n",
            ">> Class: 1\n",
            ">> Prediction: \n"
          ]
        },
        {
          "output_type": "display_data",
          "data": {
            "text/plain": [
              "<PIL.Image.Image image mode=RGB size=138x126 at 0x7F1DBD928ED0>"
            ],
            "image/png": "[encoded data removed]"
          },
          "metadata": {}
        },
        {
          "output_type": "stream",
          "name": "stdout",
          "text": [
            "\n",
            "\n",
            ">> Class: 3\n",
            ">> Prediction: \n"
          ]
        },
        {
          "output_type": "display_data",
          "data": {
            "text/plain": [
              "<PIL.Image.Image image mode=RGB size=138x126 at 0x7F1DC9997310>"
            ],
            "image/png": "[encoded data removed]"
          },
          "metadata": {}
        },
        {
          "output_type": "stream",
          "name": "stdout",
          "text": [
            "\n",
            "\n",
            ">> Class: 8\n",
            ">> Prediction: \n"
          ]
        },
        {
          "output_type": "display_data",
          "data": {
            "text/plain": [
              "<PIL.Image.Image image mode=RGB size=138x126 at 0x7F1DBD926550>"
            ],
            "image/png": "[encoded data removed]"
          },
          "metadata": {}
        },
        {
          "output_type": "stream",
          "name": "stdout",
          "text": [
            "\n",
            "\n",
            ">> Class: 4\n",
            ">> Prediction: \n"
          ]
        },
        {
          "output_type": "display_data",
          "data": {
            "text/plain": [
              "<PIL.Image.Image image mode=RGB size=138x126 at 0x7F1DBD926B90>"
            ],
            "image/png": "[encoded data removed]"
          },
          "metadata": {}
        },
        {
          "output_type": "stream",
          "name": "stdout",
          "text": [
            "\n",
            "\n",
            ">> Class: 4\n",
            ">> Prediction: \n"
          ]
        },
        {
          "output_type": "display_data",
          "data": {
            "text/plain": [
              "<PIL.Image.Image image mode=RGB size=138x126 at 0x7F1DC9953E90>"
            ],
            "image/png": "[encoded data removed]"
          },
          "metadata": {}
        },
        {
          "output_type": "stream",
          "name": "stdout",
          "text": [
            "\n",
            "\n",
            ">> Class: 0\n",
            ">> Prediction: \n"
          ]
        },
        {
          "output_type": "display_data",
          "data": {
            "text/plain": [
              "<PIL.Image.Image image mode=RGB size=138x126 at 0x7F1DC9978FD0>"
            ],
            "image/png": "[encoded data removed]"
          },
          "metadata": {}
        },
        {
          "output_type": "stream",
          "name": "stdout",
          "text": [
            "\n",
            "\n",
            ">> Class: 1\n",
            ">> Prediction: \n"
          ]
        },
        {
          "output_type": "display_data",
          "data": {
            "text/plain": [
              "<PIL.Image.Image image mode=RGB size=138x126 at 0x7F1DC99BC610>"
            ],
            "image/png": "[encoded data removed]"
          },
          "metadata": {}
        },
        {
          "output_type": "stream",
          "name": "stdout",
          "text": [
            "\n",
            "\n",
            ">> Class: 9\n",
            ">> Prediction: \n"
          ]
        },
        {
          "output_type": "display_data",
          "data": {
            "text/plain": [
              "<PIL.Image.Image image mode=RGB size=138x126 at 0x7F1DC99280D0>"
            ],
            "image/png": "[encoded data removed]"
          },
          "metadata": {}
        },
        {
          "output_type": "stream",
          "name": "stdout",
          "text": [
            "\n",
            "\n",
            ">> Class: 6\n",
            ">> Prediction: \n"
          ]
        },
        {
          "output_type": "display_data",
          "data": {
            "text/plain": [
              "<PIL.Image.Image image mode=RGB size=138x126 at 0x7F1DC9930210>"
            ],
            "image/png": "[encoded data removed]"
          },
          "metadata": {}
        }
      ]
    },
    {
      "cell_type": "code",
      "source": [
        ""
      ],
      "metadata": {
        "id": "dIKRIGd_pPgq"
      },
      "execution_count": null,
      "outputs": []
    }
  ]
}
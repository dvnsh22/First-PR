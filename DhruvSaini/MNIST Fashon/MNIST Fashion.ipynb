{
  "nbformat": 4,
  "nbformat_minor": 0,
  "metadata": {
    "colab": {
      "provenance": [],
      "collapsed_sections": []
    },
    "kernelspec": {
      "name": "python3",
      "display_name": "Python 3"
    },
    "language_info": {
      "name": "python"
    },
    "accelerator": "GPU"
  },
  "cells": [
    {
      "cell_type": "code",
      "source": [],
      "metadata": {
        "id": "9ih3f04X9KHa"
      },
      "execution_count": null,
      "outputs": []
    },
    {
      "cell_type": "markdown",
      "source": [
        "# Libraries"
      ],
      "metadata": {
        "id": "938P_HX_9Knm"
      }
    },
    {
      "cell_type": "code",
      "execution_count": 1,
      "metadata": {
        "id": "xE_cxT-l7mud"
      },
      "outputs": [],
      "source": [
        "import numpy as np\n",
        "import pandas as pd\n",
        "import matplotlib.pyplot as plt\n",
        "import seaborn as sns\n",
        "\n",
        "import tensorflow as tf"
      ]
    },
    {
      "cell_type": "code",
      "source": [],
      "metadata": {
        "id": "II7tSaF29HNs"
      },
      "execution_count": 1,
      "outputs": []
    },
    {
      "cell_type": "code",
      "source": [
        "print(tf.__version__)"
      ],
      "metadata": {
        "colab": {
          "base_uri": "https://localhost:8080/"
        },
        "id": "TrH9479Q-KCR",
        "outputId": "f727de7b-b628-4bb0-ed44-f3d6a17eec16"
      },
      "execution_count": 2,
      "outputs": [
        {
          "output_type": "stream",
          "name": "stdout",
          "text": [
            "2.8.2\n"
          ]
        }
      ]
    },
    {
      "cell_type": "code",
      "source": [],
      "metadata": {
        "id": "neXZiczl9H3J"
      },
      "execution_count": 2,
      "outputs": []
    },
    {
      "cell_type": "markdown",
      "source": [
        "# Dataset"
      ],
      "metadata": {
        "id": "kGAC-Rv_VnD1"
      }
    },
    {
      "cell_type": "code",
      "source": [],
      "metadata": {
        "id": "o2u28J9fVo34"
      },
      "execution_count": null,
      "outputs": []
    },
    {
      "cell_type": "code",
      "source": [
        "# Fashion MNIST\n",
        "fashion_mnist = tf.keras.datasets.fashion_mnist"
      ],
      "metadata": {
        "id": "FDedaQEh9H5u"
      },
      "execution_count": 3,
      "outputs": []
    },
    {
      "cell_type": "code",
      "source": [
        "dataset = fashion_mnist.load_data()"
      ],
      "metadata": {
        "id": "bb-TaNYO9H8U",
        "colab": {
          "base_uri": "https://localhost:8080/"
        },
        "outputId": "73fe03ba-b9b6-4d7e-b6a3-d2761678b5c0"
      },
      "execution_count": 4,
      "outputs": [
        {
          "output_type": "stream",
          "name": "stdout",
          "text": [
            "Downloading data from https://storage.googleapis.com/tensorflow/tf-keras-datasets/train-labels-idx1-ubyte.gz\n",
            "32768/29515 [=================================] - 0s 0us/step\n",
            "40960/29515 [=========================================] - 0s 0us/step\n",
            "Downloading data from https://storage.googleapis.com/tensorflow/tf-keras-datasets/train-images-idx3-ubyte.gz\n",
            "26427392/26421880 [==============================] - 0s 0us/step\n",
            "26435584/26421880 [==============================] - 0s 0us/step\n",
            "Downloading data from https://storage.googleapis.com/tensorflow/tf-keras-datasets/t10k-labels-idx1-ubyte.gz\n",
            "16384/5148 [===============================================================================================] - 0s 0us/step\n",
            "Downloading data from https://storage.googleapis.com/tensorflow/tf-keras-datasets/t10k-images-idx3-ubyte.gz\n",
            "4423680/4422102 [==============================] - 0s 0us/step\n",
            "4431872/4422102 [==============================] - 0s 0us/step\n"
          ]
        }
      ]
    },
    {
      "cell_type": "code",
      "source": [
        "(x_train, y_train),(x_test, y_test) = dataset"
      ],
      "metadata": {
        "id": "I_q1B3m19H_D"
      },
      "execution_count": 5,
      "outputs": []
    },
    {
      "cell_type": "code",
      "source": [],
      "metadata": {
        "id": "eQEufNnzBF4X"
      },
      "execution_count": 5,
      "outputs": []
    },
    {
      "cell_type": "code",
      "source": [],
      "metadata": {
        "id": "dV_jNr2nVqX0"
      },
      "execution_count": null,
      "outputs": []
    },
    {
      "cell_type": "markdown",
      "source": [
        "# Exploring Data"
      ],
      "metadata": {
        "id": "4VD1C7riVqf4"
      }
    },
    {
      "cell_type": "code",
      "source": [],
      "metadata": {
        "id": "UHeMdx4HVqqT"
      },
      "execution_count": null,
      "outputs": []
    },
    {
      "cell_type": "code",
      "source": [],
      "metadata": {
        "id": "E2osSFedVqzp"
      },
      "execution_count": null,
      "outputs": []
    },
    {
      "cell_type": "code",
      "source": [
        "# Type of object\n",
        "print(f\"X Train Type: {type(x_train)}\")\n",
        "print(f\"Y Train Type: {type(y_train)}\")\n",
        "print(f\"X Test Type: {type(x_test)}\")\n",
        "print(f\"Y Test Type: {type(y_test)}\")\n",
        "print()\n",
        "\n",
        "\n",
        "# Datatype \n",
        "print(f\"X Train Data Type: {(x_train).dtype}\")\n",
        "print(f\"Y Train Data Type: {(y_train).dtype}\")\n",
        "print(f\"X Test Data Type: {(x_test).dtype}\")\n",
        "print(f\"Y Test Data Type: {(y_test).dtype}\")\n",
        "print()"
      ],
      "metadata": {
        "colab": {
          "base_uri": "https://localhost:8080/"
        },
        "id": "vrKHUZvOBF66",
        "outputId": "0619d123-b7b0-4bf0-f2c2-2aee159b1baf"
      },
      "execution_count": 6,
      "outputs": [
        {
          "output_type": "stream",
          "name": "stdout",
          "text": [
            "X Train Type: <class 'numpy.ndarray'>\n",
            "Y Train Type: <class 'numpy.ndarray'>\n",
            "X Test Type: <class 'numpy.ndarray'>\n",
            "Y Test Type: <class 'numpy.ndarray'>\n",
            "\n",
            "X Train Data Type: uint8\n",
            "Y Train Data Type: uint8\n",
            "X Test Data Type: uint8\n",
            "Y Test Data Type: uint8\n",
            "\n"
          ]
        }
      ]
    },
    {
      "cell_type": "code",
      "source": [
        "# Shape\n",
        "print(f\"Shape of X Train: {x_train.shape}\")\n",
        "print(f\"Shape of Y Train: {y_train.shape}\")\n",
        "print(f\"Shape of X Test: {x_test.shape}\")\n",
        "print(f\"Shape of Y Test: {y_test.shape}\")"
      ],
      "metadata": {
        "colab": {
          "base_uri": "https://localhost:8080/"
        },
        "id": "xOy4gCH1BF9i",
        "outputId": "8870dbc7-d5f1-4ff0-cbbb-8b0ad08899ae"
      },
      "execution_count": 7,
      "outputs": [
        {
          "output_type": "stream",
          "name": "stdout",
          "text": [
            "Shape of X Train: (60000, 28, 28)\n",
            "Shape of Y Train: (60000,)\n",
            "Shape of X Test: (10000, 28, 28)\n",
            "Shape of Y Test: (10000,)\n"
          ]
        }
      ]
    },
    {
      "cell_type": "code",
      "source": [],
      "metadata": {
        "id": "d0YgnQ4J9IB6"
      },
      "execution_count": 7,
      "outputs": []
    },
    {
      "cell_type": "code",
      "source": [
        "# Unique Elements\n",
        "print(f\"Y Train Type: {set(y_train)}\")\n",
        "print(f\"Y Test Type: {set(y_test)}\")\n",
        "print()\n"
      ],
      "metadata": {
        "colab": {
          "base_uri": "https://localhost:8080/"
        },
        "id": "DMPLMREpCIKY",
        "outputId": "f0831c47-b368-4ff5-890e-ebd7de2ae22f"
      },
      "execution_count": 8,
      "outputs": [
        {
          "output_type": "stream",
          "name": "stdout",
          "text": [
            "Y Train Type: {0, 1, 2, 3, 4, 5, 6, 7, 8, 9}\n",
            "Y Test Type: {0, 1, 2, 3, 4, 5, 6, 7, 8, 9}\n",
            "\n"
          ]
        }
      ]
    },
    {
      "cell_type": "code",
      "source": [],
      "metadata": {
        "id": "8mThP9JPIkFM"
      },
      "execution_count": 8,
      "outputs": []
    },
    {
      "cell_type": "code",
      "source": [
        "# Unique Elements\n",
        "print(f\"Y Train Min, Max: {min(y_train)}, {max(y_train)}\")\n",
        "print(f\"Y Test  Min, Max: {min(y_test)}, {max(y_test)}\")\n",
        "print()"
      ],
      "metadata": {
        "colab": {
          "base_uri": "https://localhost:8080/"
        },
        "id": "qIpCqTdmCIO6",
        "outputId": "705b2f63-afcd-4d78-8dbc-31d4f1dfc33f"
      },
      "execution_count": 9,
      "outputs": [
        {
          "output_type": "stream",
          "name": "stdout",
          "text": [
            "Y Train Min, Max: 0, 9\n",
            "Y Test  Min, Max: 0, 9\n",
            "\n"
          ]
        }
      ]
    },
    {
      "cell_type": "code",
      "source": [
        "# Unique Elements\n",
        "print(f\"X Train Min, Max: {x_train.min()}, {x_train.max()}\")\n",
        "print(f\"X Test  Min, Max: {x_test.min()}, {x_test.max()}\")\n",
        "print()\n",
        "\n",
        "# Scaled Values\n",
        "Xtrain = (x_train - x_train.min())/x_train.max()\n",
        "Xtest = (x_test - x_test.min())/x_test.max()\n",
        "\n",
        "print(f\"X Train Min, Max: {Xtrain.min()}, {Xtrain.max()}\")\n",
        "print(f\"X Test  Min, Max: {Xtest.min()}, {Xtest.max()}\")\n",
        "print()"
      ],
      "metadata": {
        "colab": {
          "base_uri": "https://localhost:8080/"
        },
        "id": "OHPNYvNWJ2Nm",
        "outputId": "ba797484-c4df-4eea-8790-99dd64e07d33"
      },
      "execution_count": 10,
      "outputs": [
        {
          "output_type": "stream",
          "name": "stdout",
          "text": [
            "X Train Min, Max: 0, 255\n",
            "X Test  Min, Max: 0, 255\n",
            "\n",
            "X Train Min, Max: 0.0, 1.0\n",
            "X Test  Min, Max: 0.0, 1.0\n",
            "\n"
          ]
        }
      ]
    },
    {
      "cell_type": "code",
      "source": [
        "# Shape \n",
        "print(f\"X Train shape: {Xtrain.shape}\")\n",
        "print(f\"X Test shape: {Xtest.shape}\")\n",
        "\n",
        "# Reshapping \n",
        "Xtrain = Xtrain.reshape((*Xtrain.shape, 1))\n",
        "Xtest = Xtest.reshape((*Xtest.shape, 1))\n",
        "\n",
        "# Shape \n",
        "print(f\"X Train shape: {Xtrain.shape}\")\n",
        "print(f\"X Test shape: {Xtest.shape}\")"
      ],
      "metadata": {
        "colab": {
          "base_uri": "https://localhost:8080/"
        },
        "id": "aeahsuJfJ2QQ",
        "outputId": "50b78bed-da1c-4b72-a596-ffdeb7fc942d"
      },
      "execution_count": 11,
      "outputs": [
        {
          "output_type": "stream",
          "name": "stdout",
          "text": [
            "X Train shape: (60000, 28, 28)\n",
            "X Test shape: (10000, 28, 28)\n",
            "X Train shape: (60000, 28, 28, 1)\n",
            "X Test shape: (10000, 28, 28, 1)\n"
          ]
        }
      ]
    },
    {
      "cell_type": "code",
      "source": [],
      "metadata": {
        "id": "Uw1LdpihLuIX"
      },
      "execution_count": 11,
      "outputs": []
    },
    {
      "cell_type": "code",
      "source": [],
      "metadata": {
        "id": "1E_pAGpwVvoy"
      },
      "execution_count": null,
      "outputs": []
    },
    {
      "cell_type": "markdown",
      "source": [
        "# Data Visualization"
      ],
      "metadata": {
        "id": "FuJIFu1cV1Zw"
      }
    },
    {
      "cell_type": "code",
      "source": [],
      "metadata": {
        "id": "vjMW8KCPV3P3"
      },
      "execution_count": null,
      "outputs": []
    },
    {
      "cell_type": "code",
      "source": [
        "# get random image index \n",
        "random_image_index=np.random.randint(0,Xtest.shape[0])\n",
        "# make plot random sample image \n",
        "test_image=Xtest[random_image_index]\n",
        "# make plot image (convert 2D from 3D)\n",
        "plt.imshow(np.squeeze(test_image,axis=-1),cmap='Greys')\n",
        "# make axis off\n",
        "plt.axis('off')\n",
        "# make show\n",
        "plt.show()"
      ],
      "metadata": {
        "id": "HkLQJ663V3ST",
        "outputId": "afe9faa4-72cb-4a97-fbdb-eb832abd2387",
        "colab": {
          "base_uri": "https://localhost:8080/",
          "height": 248
        }
      },
      "execution_count": 24,
      "outputs": [
        {
          "output_type": "display_data",
          "data": {
            "text/plain": [
              "<Figure size 432x288 with 1 Axes>"
            ],
            "image/png": "[encoded data removed]"
          },
          "metadata": {
            "needs_background": "light"
          }
        }
      ]
    },
    {
      "cell_type": "code",
      "source": [],
      "metadata": {
        "id": "c8Iya0LSV3Us"
      },
      "execution_count": null,
      "outputs": []
    },
    {
      "cell_type": "code",
      "source": [
        "# get random image index \n",
        "random_image_index=np.random.randint(0,Xtest.shape[0])\n",
        "# make plot random sample image \n",
        "test_image=Xtest[random_image_index]\n",
        "# make plot image (convert 2D from 3D)\n",
        "plt.imshow(np.squeeze(test_image,axis=-1),cmap='Greys')\n",
        "# make axis off\n",
        "plt.axis('off')\n",
        "# make show\n",
        "plt.show()"
      ],
      "metadata": {
        "id": "pCfAtlSzV4rs",
        "outputId": "d9620fdf-e6d4-457d-9635-29c3694f0123",
        "colab": {
          "base_uri": "https://localhost:8080/",
          "height": 248
        }
      },
      "execution_count": 25,
      "outputs": [
        {
          "output_type": "display_data",
          "data": {
            "text/plain": [
              "<Figure size 432x288 with 1 Axes>"
            ],
            "image/png": "[encoded data removed]"
          },
          "metadata": {
            "needs_background": "light"
          }
        }
      ]
    },
    {
      "cell_type": "code",
      "source": [],
      "metadata": {
        "id": "VSNl3mphV4w4"
      },
      "execution_count": null,
      "outputs": []
    },
    {
      "cell_type": "code",
      "source": [
        "# get random image index \n",
        "random_image_index=np.random.randint(0,Xtest.shape[0])\n",
        "# make plot random sample image \n",
        "test_image=Xtest[random_image_index]\n",
        "# make plot image (convert 2D from 3D)\n",
        "plt.imshow(np.squeeze(test_image,axis=-1),cmap='Greys')\n",
        "# make axis off\n",
        "plt.axis('off')\n",
        "# make show\n",
        "plt.show()"
      ],
      "metadata": {
        "id": "csokGG8pV41E",
        "outputId": "4e4ebf44-4876-43a3-be40-e093638314a8",
        "colab": {
          "base_uri": "https://localhost:8080/",
          "height": 248
        }
      },
      "execution_count": 26,
      "outputs": [
        {
          "output_type": "display_data",
          "data": {
            "text/plain": [
              "<Figure size 432x288 with 1 Axes>"
            ],
            "image/png": "[encoded data removed]"
          },
          "metadata": {
            "needs_background": "light"
          }
        }
      ]
    },
    {
      "cell_type": "code",
      "source": [],
      "metadata": {
        "id": "SiLURt09V43l"
      },
      "execution_count": null,
      "outputs": []
    },
    {
      "cell_type": "code",
      "source": [],
      "metadata": {
        "id": "2I-dT5BXV454"
      },
      "execution_count": null,
      "outputs": []
    },
    {
      "cell_type": "code",
      "source": [
        "# get random image index \n",
        "random_image_index=np.random.randint(0,Xtest.shape[0])\n",
        "# make plot random sample image \n",
        "test_image=Xtest[random_image_index]\n",
        "# make plot image (convert 2D from 3D)\n",
        "plt.imshow(np.squeeze(test_image,axis=-1),cmap='Greys')\n",
        "# make axis off\n",
        "plt.axis('off')\n",
        "# make show\n",
        "plt.show()"
      ],
      "metadata": {
        "id": "5CKHL_mNV48d",
        "outputId": "aa6a28e1-f750-45c1-f9dc-664b93132d57",
        "colab": {
          "base_uri": "https://localhost:8080/",
          "height": 248
        }
      },
      "execution_count": 27,
      "outputs": [
        {
          "output_type": "display_data",
          "data": {
            "text/plain": [
              "<Figure size 432x288 with 1 Axes>"
            ],
            "image/png": "[encoded data removed]"
          },
          "metadata": {
            "needs_background": "light"
          }
        }
      ]
    },
    {
      "cell_type": "code",
      "source": [],
      "metadata": {
        "id": "-RRIPrqBV4_B"
      },
      "execution_count": null,
      "outputs": []
    },
    {
      "cell_type": "code",
      "source": [],
      "metadata": {
        "id": "Yt-PL1lIV5BO"
      },
      "execution_count": null,
      "outputs": []
    },
    {
      "cell_type": "code",
      "source": [
        "# get random image index \n",
        "random_image_index=np.random.randint(0,Xtest.shape[0])\n",
        "# make plot random sample image \n",
        "test_image=Xtest[random_image_index]\n",
        "# make plot image (convert 2D from 3D)\n",
        "plt.imshow(np.squeeze(test_image,axis=-1),cmap='Greys')\n",
        "# make axis off\n",
        "plt.axis('off')\n",
        "# make show\n",
        "plt.show()"
      ],
      "metadata": {
        "id": "QgEvYNoHV5De",
        "outputId": "36c1f468-9708-4d2f-e114-1ed645baecd6",
        "colab": {
          "base_uri": "https://localhost:8080/",
          "height": 248
        }
      },
      "execution_count": 28,
      "outputs": [
        {
          "output_type": "display_data",
          "data": {
            "text/plain": [
              "<Figure size 432x288 with 1 Axes>"
            ],
            "image/png": "[encoded data removed]"
          },
          "metadata": {
            "needs_background": "light"
          }
        }
      ]
    },
    {
      "cell_type": "code",
      "source": [],
      "metadata": {
        "id": "p63NZ5WcV3XW"
      },
      "execution_count": null,
      "outputs": []
    },
    {
      "cell_type": "markdown",
      "source": [
        "# Modeling"
      ],
      "metadata": {
        "id": "JHNrFj39VwDv"
      }
    },
    {
      "cell_type": "code",
      "source": [],
      "metadata": {
        "id": "_YJU6zWTVwKG"
      },
      "execution_count": null,
      "outputs": []
    },
    {
      "cell_type": "code",
      "source": [],
      "metadata": {
        "id": "H36audzCVwUu"
      },
      "execution_count": null,
      "outputs": []
    },
    {
      "cell_type": "code",
      "source": [
        "model = tf.keras.Sequential([\n",
        "    tf.keras.layers.Flatten(input_shape=(28, 28, 1)),\n",
        "    tf.keras.layers.Dense(128, activation='relu'),\n",
        "    tf.keras.layers.Dense(128, activation='relu'),\n",
        "    tf.keras.layers.Dense(10)\n",
        "])"
      ],
      "metadata": {
        "id": "e1SUVSbcLuU8"
      },
      "execution_count": 12,
      "outputs": []
    },
    {
      "cell_type": "code",
      "source": [
        "model.compile(optimizer='adam',\n",
        "              loss=tf.keras.losses.SparseCategoricalCrossentropy(from_logits=True),\n",
        "              metrics=['accuracy'])"
      ],
      "metadata": {
        "id": "9veVstn9NSUX"
      },
      "execution_count": 13,
      "outputs": []
    },
    {
      "cell_type": "code",
      "source": [
        "model.fit(Xtrain, y_train, epochs=10)"
      ],
      "metadata": {
        "colab": {
          "base_uri": "https://localhost:8080/"
        },
        "id": "bjWOPBvKNSWz",
        "outputId": "05a1c7aa-5ec2-445b-acf1-5fd760fcdd5c"
      },
      "execution_count": 14,
      "outputs": [
        {
          "output_type": "stream",
          "name": "stdout",
          "text": [
            "Epoch 1/10\n",
            "1875/1875 [==============================] - 7s 3ms/step - loss: 0.4844 - accuracy: 0.8258\n",
            "Epoch 2/10\n",
            "1875/1875 [==============================] - 8s 4ms/step - loss: 0.3634 - accuracy: 0.8673\n",
            "Epoch 3/10\n",
            "1875/1875 [==============================] - 12s 6ms/step - loss: 0.3274 - accuracy: 0.8792\n",
            "Epoch 4/10\n",
            "1875/1875 [==============================] - 8s 4ms/step - loss: 0.3057 - accuracy: 0.8867\n",
            "Epoch 5/10\n",
            "1875/1875 [==============================] - 6s 3ms/step - loss: 0.2859 - accuracy: 0.8937\n",
            "Epoch 6/10\n",
            "1875/1875 [==============================] - 6s 3ms/step - loss: 0.2701 - accuracy: 0.8992\n",
            "Epoch 7/10\n",
            "1875/1875 [==============================] - 6s 3ms/step - loss: 0.2597 - accuracy: 0.9008\n",
            "Epoch 8/10\n",
            "1875/1875 [==============================] - 6s 3ms/step - loss: 0.2519 - accuracy: 0.9045\n",
            "Epoch 9/10\n",
            "1875/1875 [==============================] - 9s 5ms/step - loss: 0.2393 - accuracy: 0.9090\n",
            "Epoch 10/10\n",
            "1875/1875 [==============================] - 6s 3ms/step - loss: 0.2315 - accuracy: 0.9121\n"
          ]
        },
        {
          "output_type": "execute_result",
          "data": {
            "text/plain": [
              "<keras.callbacks.History at 0x7fed98da2090>"
            ]
          },
          "metadata": {},
          "execution_count": 14
        }
      ]
    },
    {
      "cell_type": "code",
      "source": [],
      "metadata": {
        "id": "v4P11omcNSZh"
      },
      "execution_count": 14,
      "outputs": []
    },
    {
      "cell_type": "code",
      "source": [
        "test_loss, test_acc = model.evaluate(Xtest,  y_test, verbose=2)\n",
        "\n",
        "print('\\nTest accuracy:', test_acc)"
      ],
      "metadata": {
        "colab": {
          "base_uri": "https://localhost:8080/"
        },
        "id": "bZ4qEPToNScB",
        "outputId": "67d3315c-ccbc-4200-fc92-7cd7a89b6abb"
      },
      "execution_count": 15,
      "outputs": [
        {
          "output_type": "stream",
          "name": "stdout",
          "text": [
            "313/313 - 1s - loss: 0.3341 - accuracy: 0.8815 - 567ms/epoch - 2ms/step\n",
            "\n",
            "Test accuracy: 0.8815000057220459\n"
          ]
        }
      ]
    },
    {
      "cell_type": "code",
      "source": [],
      "metadata": {
        "id": "HQtKfj0gUvYG"
      },
      "execution_count": null,
      "outputs": []
    },
    {
      "cell_type": "code",
      "source": [],
      "metadata": {
        "id": "ijFY9LGvU4Ob"
      },
      "execution_count": null,
      "outputs": []
    },
    {
      "cell_type": "code",
      "source": [
        "# get random image index \n",
        "random_image_index=np.random.randint(0,Xtest.shape[0])\n",
        "# make plot random sample image \n",
        "test_image=Xtest[random_image_index]\n",
        "# make plot image (convert 2D from 3D)\n",
        "plt.imshow(np.squeeze(test_image,axis=-1),cmap='Greys')\n",
        "# make axis off\n",
        "plt.axis('off')\n",
        "# make show\n",
        "plt.show()"
      ],
      "metadata": {
        "colab": {
          "base_uri": "https://localhost:8080/",
          "height": 248
        },
        "id": "XgrALjdtU4ZY",
        "outputId": "fda3c589-a9bb-45f5-9a2d-4bf18c5f974d"
      },
      "execution_count": 22,
      "outputs": [
        {
          "output_type": "display_data",
          "data": {
            "text/plain": [
              "<Figure size 432x288 with 1 Axes>"
            ],
            "image/png": "[encoded data removed]"
          },
          "metadata": {
            "needs_background": "light"
          }
        }
      ]
    },
    {
      "cell_type": "code",
      "source": [],
      "metadata": {
        "id": "s1RE9ZITU4cA"
      },
      "execution_count": null,
      "outputs": []
    },
    {
      "cell_type": "code",
      "source": [
        "# get random image index \n",
        "random_image_index=np.random.randint(0,Xtest.shape[0])\n",
        "# make plot random sample image \n",
        "test_image=Xtest[random_image_index]\n",
        "# make plot image (convert 2D from 3D)\n",
        "plt.imshow(np.squeeze(test_image,axis=-1),cmap='Greys')\n",
        "# make axis off\n",
        "plt.axis('off')\n",
        "# make show\n",
        "plt.show()"
      ],
      "metadata": {
        "colab": {
          "base_uri": "https://localhost:8080/",
          "height": 248
        },
        "id": "0E2Q_JF-U4e3",
        "outputId": "079663d9-faea-424b-f3a9-2ee2f460950c"
      },
      "execution_count": 23,
      "outputs": [
        {
          "output_type": "display_data",
          "data": {
            "text/plain": [
              "<Figure size 432x288 with 1 Axes>"
            ],
            "image/png": "[encoded data removed]"
          },
          "metadata": {
            "needs_background": "light"
          }
        }
      ]
    },
    {
      "cell_type": "code",
      "source": [],
      "metadata": {
        "id": "HtIY6MU5Vidd"
      },
      "execution_count": null,
      "outputs": []
    }
  ]
}